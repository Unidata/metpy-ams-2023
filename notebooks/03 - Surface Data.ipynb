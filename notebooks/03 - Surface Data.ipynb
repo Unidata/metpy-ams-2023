{
 "cells": [
  {
   "cell_type": "markdown",
   "metadata": {},
   "source": [
    "![Unidata organization logo](https://github.com/Unidata/metpy-ams-2023/raw/main/logos/unidata_logo_horizontal.png)\n",
    "\n",
    "# Surface Data\n",
    "\n",
    "> Surface observations might recall scary memories of METARs, but calm your fears! We can continue to rely on the good work of our community and the powerful tools in this space. We can get straight to dataframes and in-python station model plots without ever having to decode a METAR by hand. (But don't worry, that option is on the table for you still!)\n",
    "\n",
    "*MetPy for your Data: Analyzing Meteorological Observations in Python*  \n",
    "*2023 AMS Annual Meeting*"
   ]
  },
  {
   "cell_type": "markdown",
   "metadata": {},
   "source": [
    "## Table of Contents\n",
    "\n",
    "* [1: Pandas and point data](#dataread)\n",
    "* [2: Station Plots for visualizing observations](#stationplot)\n",
    "* [3: A time series of observations](#timeseries)"
   ]
  },
  {
   "cell_type": "markdown",
   "metadata": {},
   "source": [
    "<a name=\"dataread\"></a>\n",
    "## 1. Using Pandas to get point data from Iowa State ASOS Archive\n",
    "\n",
    "https://mesonet.agron.iastate.edu/request/download.phtml"
   ]
  },
  {
   "cell_type": "code",
   "execution_count": null,
   "metadata": {},
   "outputs": [],
   "source": [
    "from datetime import datetime, timedelta\n",
    "import pandas as pd\n",
    "\n",
    "# Set a date and time for the observations you want\n",
    "date = datetime.utcnow()\n",
    "\n",
    "# Set a time window to look for observations\n",
    "dt = timedelta(minutes=25)\n",
    "\n",
    "# Use datetime and time window to set final start/end times\n",
    "sdate = date - dt\n",
    "edate = date + dt"
   ]
  },
  {
   "cell_type": "markdown",
   "metadata": {},
   "source": [
    "Construct data access URL using start and end date/time."
   ]
  },
  {
   "cell_type": "code",
   "execution_count": null,
   "metadata": {},
   "outputs": [],
   "source": [
    "data_url = ('http://mesonet.agron.iastate.edu/cgi-bin/request/asos.py?data=all&tz=Etc/UTC&format=comma&latlon=yes&'\n",
    "            f'year1={sdate.year}&month1={sdate.month}&day1={sdate.day}&hour1={sdate.hour}&minute1={sdate.minute}&'\n",
    "            f'year2={edate.year}&month2={edate.month}&day2={edate.day}&hour2={edate.hour}&minute2={edate.minute}')"
   ]
  },
  {
   "cell_type": "markdown",
   "metadata": {},
   "source": [
    "Request Data"
   ]
  },
  {
   "cell_type": "code",
   "execution_count": null,
   "metadata": {},
   "outputs": [],
   "source": [
    "# Use Pandas remote csv reading capability to grab desired data\n",
    "# Make Missing values ('M') into NaNs\n",
    "# Replace Trace precip with very small float value\n",
    "df = pd.read_csv(data_url, skiprows=5, na_values=['M'], low_memory=False).replace('T', 0.00001)"
   ]
  },
  {
   "cell_type": "code",
   "execution_count": null,
   "metadata": {},
   "outputs": [],
   "source": [
    "# Since we may have gotten more than 1 ob in our time window, only keep the latest observation\n",
    "data = df.groupby('station').tail(1)"
   ]
  },
  {
   "cell_type": "markdown",
   "metadata": {},
   "source": [
    "Let's take a look at what data we got!"
   ]
  },
  {
   "cell_type": "code",
   "execution_count": null,
   "metadata": {},
   "outputs": [],
   "source": [
    "data"
   ]
  },
  {
   "cell_type": "markdown",
   "metadata": {},
   "source": [
    "Thta's a lot of data - What are all of the variables that we have available?"
   ]
  },
  {
   "cell_type": "code",
   "execution_count": null,
   "metadata": {},
   "outputs": [],
   "source": [
    "# Use our column names to list the available variables\n",
    "data.columns.values"
   ]
  },
  {
   "cell_type": "markdown",
   "metadata": {},
   "source": [
    "<a href=\"#top\">Top</a>\n",
    "<hr style=\"height:2px;\">"
   ]
  },
  {
   "cell_type": "markdown",
   "metadata": {},
   "source": [
    "<a name=\"stationplot\"></a>\n",
    "## 2. Making a station plot\n",
    " * Make data request\n",
    " * Request data closest to a specific time"
   ]
  },
  {
   "cell_type": "code",
   "execution_count": null,
   "metadata": {},
   "outputs": [],
   "source": [
    "# Set a date and time for the observations you want\n",
    "date = datetime(1993, 3, 13, 12)\n",
    "\n",
    "# Set a time window to look for observations\n",
    "dt = timedelta(minutes=15)\n",
    "\n",
    "# Use datetime and time window to set final start/end times\n",
    "sdate = date - dt\n",
    "edate = date + dt\n",
    "\n",
    "# Use Pandas remote csv reading capability to grab desired data\n",
    "# Make Missing values ('M') into NaNs\n",
    "# Replace Trace precip with very small float value\n",
    "df = pd.read_csv('http://mesonet.agron.iastate.edu/cgi-bin/request/asos.py?data=all&'\n",
    "                 'tz=Etc/UTC&format=comma&latlon=yes&elev=yes&'\n",
    "                 f'year1={sdate.year}&month1={sdate.month}&day1={sdate.day}&hour1={sdate.hour}&minute1={sdate.minute}&'\n",
    "                 f'year2={edate.year}&month2={edate.month}&day2={edate.day}&hour2={edate.hour}&minute2={edate.minute}',\n",
    "                 skiprows=5, na_values=['M'], low_memory=False).replace('T', 0.00001)\n",
    "\n",
    "# Since we may have gotten more than 1 ob in our time window, only keep the latest observation\n",
    "data = df.groupby('station').tail(1)"
   ]
  },
  {
   "cell_type": "markdown",
   "metadata": {},
   "source": [
    "Note that the station information variables (like longitude) have a different shape than the data variables (like temperature)."
   ]
  },
  {
   "cell_type": "code",
   "execution_count": null,
   "metadata": {},
   "outputs": [],
   "source": [
    "print(data['tmpf'])\n",
    "print(data['lon'])"
   ]
  },
  {
   "cell_type": "markdown",
   "metadata": {},
   "source": [
    "Subset out global surface data"
   ]
  },
  {
   "cell_type": "code",
   "execution_count": null,
   "metadata": {},
   "outputs": [],
   "source": [
    "loc_subset = ((df.lon <= -50) &\n",
    "              (df.lon >= -180) &\n",
    "              (df.lat >= 20) &\n",
    "              (df.lat <= 70))\n",
    "data = data[loc_subset]"
   ]
  },
  {
   "cell_type": "markdown",
   "metadata": {},
   "source": [
    "Now we need to pull apart the data and perform some modifications, like converting winds to components and convert sky coverage percent to codes (octets) suitable for plotting."
   ]
  },
  {
   "cell_type": "code",
   "execution_count": null,
   "metadata": {},
   "outputs": [],
   "source": [
    "import numpy as np\n",
    "\n",
    "from metpy.calc import wind_components, altimeter_to_sea_level_pressure\n",
    "from metpy.plots import wx_code_to_numeric\n",
    "from metpy.units import units\n",
    "\n",
    "# Access via Pandas DataFrame and downcast to numpy array to attach units\n",
    "lats = data.lat.values\n",
    "lons = data.lon.values\n",
    "tmpf = data.tmpf.values * units.degF\n",
    "dwpf = data.dwpf.values * units.degF\n",
    "alti = data.alti.values * units.inHg\n",
    "elev = data.elevation.values * units.meter\n",
    "stid = data.station.values"
   ]
  },
  {
   "cell_type": "markdown",
   "metadata": {},
   "source": [
    "Generate MSLP values from the Altimeter reading. Utilize the MetPy function to compute with eleveation and temperature."
   ]
  },
  {
   "cell_type": "code",
   "execution_count": null,
   "metadata": {},
   "outputs": [],
   "source": [
    "mslp = altimeter_to_sea_level_pressure(alti, elev, tmpf).to('hPa')"
   ]
  },
  {
   "cell_type": "markdown",
   "metadata": {},
   "source": [
    "Calculate wind components from wind speed (sknt) and wind direction (drct) values."
   ]
  },
  {
   "cell_type": "code",
   "execution_count": null,
   "metadata": {},
   "outputs": [],
   "source": [
    "# Convert wind to components\n",
    "u, v = wind_components(data.sknt.values * units.knot, data.drct.values * units.degree)"
   ]
  },
  {
   "cell_type": "markdown",
   "metadata": {},
   "source": [
    "Convert cloud cover codes to numeric okta values using a small definition."
   ]
  },
  {
   "cell_type": "code",
   "execution_count": null,
   "metadata": {},
   "outputs": [],
   "source": [
    "# Need to handle missing (NaN) and convert to proper code\n",
    "def assign_cloud_cover(code):\n",
    "    if 'OVC' in code:\n",
    "        return 1\n",
    "    elif 'BKN' in code:\n",
    "        return 6\n",
    "    elif 'SCT' in code:\n",
    "        return 4\n",
    "    elif 'FEW' in code:\n",
    "        return 2\n",
    "    else:\n",
    "        return 0\n",
    "    \n",
    "skyc = data.skyc1.astype('str')\n",
    "cloud_cover = skyc.apply(assign_cloud_cover)"
   ]
  },
  {
   "cell_type": "markdown",
   "metadata": {},
   "source": [
    "Assign the numeric weather codes to the METAR current weather text"
   ]
  },
  {
   "cell_type": "code",
   "execution_count": null,
   "metadata": {},
   "outputs": [],
   "source": [
    "wxsym = data.wxcodes\n",
    "wx = wx_code_to_numeric(wxsym.fillna(''))"
   ]
  },
  {
   "cell_type": "markdown",
   "metadata": {},
   "source": [
    "### Create the map using cartopy and MetPy!"
   ]
  },
  {
   "cell_type": "markdown",
   "metadata": {},
   "source": [
    "One way to create station plots with MetPy is to create an instance of `StationPlot` and call various plot methods, like `plot_parameter`, to plot arrays of data at locations relative to the center point.\n",
    "\n",
    "In addition to plotting values, `StationPlot` has support for plotting text strings, symbols, and plotting values using custom formatting.\n",
    "\n",
    "Plotting symbols involves mapping integer values to various custom font glyphs in our custom weather symbols font. MetPy provides mappings for converting WMO codes to their appropriate symbol. The `sky_cover` function below is one such mapping."
   ]
  },
  {
   "cell_type": "code",
   "execution_count": null,
   "metadata": {},
   "outputs": [],
   "source": [
    "%matplotlib inline\n",
    "\n",
    "import cartopy.crs as ccrs\n",
    "import cartopy.feature as cfeature\n",
    "import matplotlib.pyplot as plt\n",
    "\n",
    "from metpy.plots import StationPlot\n",
    "from metpy.plots.wx_symbols import sky_cover, current_weather\n",
    "\n",
    "# Set up a plot with map features\n",
    "fig = plt.figure(figsize=(12, 12))\n",
    "proj = ccrs.LambertConformal(central_longitude=-100, central_latitude=35)\n",
    "ax = fig.add_subplot(1, 1, 1, projection=proj)\n",
    "ax.set_extent([-124, -65, 20, 60], ccrs.PlateCarree())\n",
    "\n",
    "ax.add_feature(cfeature.STATES.with_scale('50m'), edgecolor='black')\n",
    "ax.add_feature(cfeature.COASTLINE.with_scale('50m'), edgecolor='black')\n",
    "ax.gridlines()\n",
    "\n",
    "# Create a station plot pointing to an Axes to draw on as well as the location of points\n",
    "stationplot = StationPlot(ax, lons, lats, transform=ccrs.PlateCarree(),\n",
    "                          fontsize=10)\n",
    "stationplot.plot_parameter('NW', tmpf, color='red')\n",
    "\n",
    "# Add wind barbs\n",
    "stationplot.plot_barb(u, v)\n",
    "\n",
    "# Plot the sky cover symbols in the center. We give it the integer code values that\n",
    "# should be plotted, as well as a mapping class that can convert the integer values\n",
    "# to the appropriate font glyph.\n",
    "stationplot.plot_symbol('C', cloud_cover, sky_cover)\n",
    "\n",
    "plt.show()"
   ]
  },
  {
   "cell_type": "markdown",
   "metadata": {},
   "source": [
    "Notice how there are so many overlapping stations? There's a utility in MetPy to help with that: `reduce_point_density`. This returns a mask we can apply to data to filter the points."
   ]
  },
  {
   "cell_type": "code",
   "execution_count": null,
   "metadata": {},
   "outputs": [],
   "source": [
    "from metpy.calc import reduce_point_density\n",
    "\n",
    "# Project points so that we're filtering based on the way the stations are laid out on the map\n",
    "proj = ccrs.Stereographic(central_longitude=-95, central_latitude=35)\n",
    "xy = proj.transform_points(ccrs.PlateCarree(), lons, lats)\n",
    "\n",
    "# Reduce point density so that there's only one point within a 200km circle\n",
    "mask = reduce_point_density(xy, 200000)"
   ]
  },
  {
   "cell_type": "markdown",
   "metadata": {},
   "source": [
    "Now we just plot with `arr[mask]` for every `arr` of data we use in plotting."
   ]
  },
  {
   "cell_type": "code",
   "execution_count": null,
   "metadata": {},
   "outputs": [],
   "source": [
    "# Set up a plot with map features\n",
    "fig = plt.figure(figsize=(15, 15))\n",
    "proj = ccrs.LambertConformal(central_longitude=-100, central_latitude=35)\n",
    "ax = fig.add_subplot(1, 1, 1, projection=proj)\n",
    "ax.set_extent([-124, -65, 20, 60], ccrs.PlateCarree())\n",
    "\n",
    "ax.add_feature(cfeature.STATES.with_scale('50m'), edgecolor='black')\n",
    "ax.add_feature(cfeature.COASTLINE.with_scale('50m'), edgecolor='black')\n",
    "ax.gridlines()\n",
    "\n",
    "# Create a station plot pointing to an Axes to draw on as well as the location of points\n",
    "stationplot = StationPlot(ax, lons[mask], lats[mask], transform=ccrs.PlateCarree(),\n",
    "                          fontsize=10, clip_on=True)\n",
    "stationplot.plot_parameter('NW', tmpf[mask], color='red')\n",
    "\n",
    "stationplot.plot_barb(u[mask], v[mask])\n",
    "\n",
    "stationplot.plot_symbol('C', cloud_cover[mask], sky_cover)\n",
    "stationplot.plot_symbol('W', wx[mask], current_weather, color='blue')\n",
    "\n",
    "ax.set_title(f'Surface Observations for {date} UTC')\n",
    "plt.show()"
   ]
  },
  {
   "cell_type": "markdown",
   "metadata": {},
   "source": [
    "More examples for MetPy Station Plots:\n",
    "- [MetPy Examples](https://unidata.github.io/MetPy/examples/index.html)\n",
    "- [MetPy Symbol list](https://unidata.github.io/MetPy/api/generated/metpy.plots.StationPlot.html#metpy.plots.StationPlot.plot_symbol)"
   ]
  },
  {
   "cell_type": "markdown",
   "metadata": {},
   "source": [
    "<div class=\"admonition alert alert-warning\">\n",
    "    <p class=\"admonition-title\" style=\"font-weight:bold\">Activity: Modify our station plots!</p>\n",
    "    To plot this image, we will use <b>matplotlib</b> to display our data. Let's first make sure we have the information we need: <br> \n",
    "<ul>\n",
    "    <li>Modify the station plot (reproduced below) to include dewpoint, altimeter setting, as well as the station id. The station id can be added using the `plot_text` method on `StationPlot`.</li>\n",
    "    <li>Re-mask the data to be a bit more finely spaced, say: 100 km</li>\n",
    "    <li>Bonus Points: Use the `formatter` argument to `plot_parameter` to only plot the 3 significant digits of altimeter setting. (Tens, ones, tenths)</li>\n",
    "</ul>\n",
    "</div>"
   ]
  },
  {
   "cell_type": "code",
   "execution_count": null,
   "metadata": {},
   "outputs": [],
   "source": [
    "# Use reduce_point_density\n",
    "\n",
    "# Set up a plot with map features\n",
    "fig = plt.figure(figsize=(12, 12))\n",
    "proj = ccrs.LambertConformal(central_longitude=-100, central_latitude=35)\n",
    "ax = fig.add_subplot(1, 1, 1, projection=proj)\n",
    "ax.set_extent([-124, -65, 20, 60], ccrs.PlateCarree())\n",
    "\n",
    "ax.add_feature(cfeature.STATES.with_scale('50m'), edgecolor='black')\n",
    "ax.add_feature(cfeature.COASTLINE.with_scale('50m'), edgecolor='black')\n",
    "ax.gridlines()\n",
    "\n",
    "# Create a station plot pointing to an Axes to draw on as well as the location of points\n",
    "\n",
    "# Plot dewpoint\n",
    "\n",
    "# Plot altimeter setting--formatter can take a function that formats values\n",
    "\n",
    "# Plot station id"
   ]
  },
  {
   "cell_type": "markdown",
   "metadata": {},
   "source": [
    "<a href=\"#top\">Top</a>\n",
    "<hr style=\"height:2px;\">"
   ]
  },
  {
   "cell_type": "markdown",
   "metadata": {},
   "source": [
    "<a name=\"timeseries\"></a>\n",
    "## 3. Time Series request and plot\n",
    "* Let's say we want the past days worth of data...\n",
    "* ...for Denver (i.e. DVN)\n",
    "* ...for the variables mean sea level pressure, air temperature, wind direction, and wind_speed"
   ]
  },
  {
   "cell_type": "code",
   "execution_count": null,
   "metadata": {},
   "outputs": [],
   "source": [
    "# Set a date and time for the observations you want\n",
    "date = datetime.utcnow()\n",
    "\n",
    "# Set a time window to look for observations\n",
    "dt = timedelta(hours=24)\n",
    "\n",
    "# Use datetime and time window for previous 24 hours from chosen time\n",
    "sdate = date - dt\n",
    "edate = date"
   ]
  },
  {
   "cell_type": "markdown",
   "metadata": {},
   "source": [
    "Generate data access URL with only selecting an individual station"
   ]
  },
  {
   "cell_type": "code",
   "execution_count": null,
   "metadata": {},
   "outputs": [],
   "source": [
    "# Select Station\n",
    "station = 'DEN'\n",
    "\n",
    "# Construct the data access URL\n",
    "# NOTE: Addition of station variable to only grab that single location\n",
    "data_url = (f'http://mesonet.agron.iastate.edu/cgi-bin/request/asos.py?station={station}&'\n",
    "            'data=all&tz=Etc/UTC&format=comma&latlon=yes&elev=yes&'\n",
    "            f'year1={sdate.year}&month1={sdate.month}&day1={sdate.day}&hour1={sdate.hour}&minute1={sdate.minute}&'\n",
    "            f'year2={edate.year}&month2={edate.month}&day2={edate.day}&hour2={edate.hour}&minute2={edate.minute}')"
   ]
  },
  {
   "cell_type": "markdown",
   "metadata": {},
   "source": [
    "### Let's get the data!"
   ]
  },
  {
   "cell_type": "markdown",
   "metadata": {},
   "source": [
    "Use Pandas remote csv reading capability to grab desired data"
   ]
  },
  {
   "cell_type": "code",
   "execution_count": null,
   "metadata": {},
   "outputs": [],
   "source": [
    "# Make Missing values ('M') into NaNs\n",
    "# Replace Trace precip with very small float value\n",
    "# Use time as our index, parse dates to be datetime objects\n",
    "df = pd.read_csv(data_url,\n",
    "                 index_col='valid', parse_dates=['valid'],\n",
    "                 skiprows=5, na_values=['M'], low_memory=False).replace('T', 0.00001)"
   ]
  },
  {
   "cell_type": "markdown",
   "metadata": {},
   "source": [
    "Subset the data we got to only a few variables and drop times with missing values"
   ]
  },
  {
   "cell_type": "code",
   "execution_count": null,
   "metadata": {},
   "outputs": [],
   "source": [
    "# Let's subset to only the values we want to work with\n",
    "# 'alti', 'tmpf', 'sknt', 'drct'\n",
    "data = df[['alti', 'tmpf', 'sknt', 'drct']].dropna()\n",
    "print(data)"
   ]
  },
  {
   "cell_type": "markdown",
   "metadata": {},
   "source": [
    "Let's get the time into a datetime object"
   ]
  },
  {
   "cell_type": "code",
   "execution_count": null,
   "metadata": {},
   "outputs": [],
   "source": [
    "valid_times = data.index\n",
    "print(valid_times)"
   ]
  },
  {
   "cell_type": "markdown",
   "metadata": {},
   "source": [
    "### Now for the obligatory time series plot..."
   ]
  },
  {
   "cell_type": "code",
   "execution_count": null,
   "metadata": {},
   "outputs": [],
   "source": [
    "wind_data = data.sknt"
   ]
  },
  {
   "cell_type": "code",
   "execution_count": null,
   "metadata": {},
   "outputs": [],
   "source": [
    "from matplotlib.dates import DateFormatter, AutoDateLocator\n",
    "\n",
    "fig, ax = plt.subplots(figsize=(10, 6))\n",
    "ax.plot(valid_times, wind_data, color='tab:blue')\n",
    "\n",
    "ax.set_title(f'Site: {station}     Most Recent Observation: {valid_times[-1].strftime(\"%Y/%m/%d %H:%M\")} UTC')\n",
    "ax.set_xlabel('Hour of day')\n",
    "ax.set_ylabel('Wind Speed')\n",
    "ax.grid(True)\n",
    "\n",
    "# Improve on the default ticking\n",
    "locator = AutoDateLocator()\n",
    "hoursFmt = DateFormatter('%H')\n",
    "ax.xaxis.set_major_locator(locator)\n",
    "ax.xaxis.set_major_formatter(hoursFmt)"
   ]
  },
  {
   "cell_type": "markdown",
   "metadata": {},
   "source": [
    "<div class=\"admonition alert alert-warning\">\n",
    "    <p class=\"admonition-title\" style=\"font-weight:bold\">Activity: Exploration</p>\n",
    "    Tasks:<br> \n",
    "<ul>\n",
    "    <li>Pick a different location</li>\n",
    "    <li>Plot temperature and dewpoint together on the same plot</li>\n",
    "</ul>\n",
    "</div>"
   ]
  },
  {
   "cell_type": "code",
   "execution_count": null,
   "metadata": {},
   "outputs": [],
   "source": []
  },
  {
   "cell_type": "markdown",
   "metadata": {},
   "source": [
    "<a href=\"#top\">Top</a>\n",
    "<hr style=\"height:2px;\">"
   ]
  },
  {
   "cell_type": "markdown",
   "metadata": {},
   "source": [
    "## Additional Take Home Notes"
   ]
  },
  {
   "cell_type": "markdown",
   "metadata": {},
   "source": [
    "### Decoding METAR\n",
    "\n",
    "What if you find that you have undecoded METAR data?\n",
    "\n",
    "MetPy has a METAR parser that we can see how it works using the raw metar data that we get with the remote data we accessed from the Iowa State archive."
   ]
  },
  {
   "cell_type": "code",
   "execution_count": null,
   "metadata": {},
   "outputs": [],
   "source": [
    "from metpy.io import parse_metar_to_dataframe\n",
    "\n",
    "# Parse single METAR to a Pandas DataFrame\n",
    "kden = parse_metar_to_dataframe(df.metar.iloc[0])"
   ]
  },
  {
   "cell_type": "code",
   "execution_count": null,
   "metadata": {
    "tags": []
   },
   "outputs": [],
   "source": [
    "from io import StringIO\n",
    "\n",
    "from metpy.io import parse_metar_file\n",
    "\n",
    "# Join all of the individual metars into a single string\n",
    "str_obj = '\\n'.join(val for val in df.metar)\n",
    "\n",
    "# Use stringIO to create a file-like object to use with the\n",
    "# parse_metar_file function from MetPy\n",
    "obs = parse_metar_file(StringIO(str_obj))"
   ]
  },
  {
   "cell_type": "code",
   "execution_count": null,
   "metadata": {},
   "outputs": [],
   "source": [
    "obs"
   ]
  }
 ],
 "metadata": {
  "kernelspec": {
   "display_name": "Python 3 (ipykernel)",
   "language": "python",
   "name": "python3"
  },
  "language_info": {
   "codemirror_mode": {
    "name": "ipython",
    "version": 3
   },
   "file_extension": ".py",
   "mimetype": "text/x-python",
   "name": "python",
   "nbconvert_exporter": "python",
   "pygments_lexer": "ipython3",
   "version": "3.11.0"
  }
 },
 "nbformat": 4,
 "nbformat_minor": 4
}
