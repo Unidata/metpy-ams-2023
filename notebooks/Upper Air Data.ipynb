{
 "cells": [
  {
   "cell_type": "markdown",
   "id": "437600ce-cd20-4b37-8957-001ee5cc8e37",
   "metadata": {},
   "source": [
    "<a name=\"top\"></a>\n",
    "<div style=\"width:1000 px\">\n",
    "\n",
    "<div style=\"float:right; width:98 px; height:98px;\">\n",
    "<img src=\"https://raw.githubusercontent.com/Unidata/MetPy/master/src/metpy/plots/_static/unidata_150x150.png\" alt=\"Unidata Logo\" style=\"height: 98px;\">\n",
    "</div>\n",
    "\n",
    "<h1>Working with Upper Air Observations</h1>\n",
    "    <h3>AMS 2023 Short Course: MetPy for your Data, Analyzing Meteorological Observations in Python</h3>\n",
    "\n",
    "<div style=\"clear:both\"></div>\n",
    "</div>\n",
    "\n",
    "<hr style=\"height:2px;\">\n",
    "\n",
    "### Tasks\n",
    "1. <a href=\"#download\">Access upper air data from the Iowa Environmental Mesonet Archive</a>\n",
    "1. <a href=\"#plot\">Activity: Visualize the data</a>\n",
    "1. <a href=\"#download_profile\">Download a profile of upper air data from the University of Wyoming Archive</a>\n",
    "1. <a href=\"#mixingratio\">Ploting with Skew-T Diagrams</a>\n",
    "\n",
    "In this lesson, we will demonstrate how to use tools in MetPy and Siphon to easily access upper air observations and plot these data on a map or as a profile on a Skew-T."
   ]
  },
  {
   "cell_type": "markdown",
   "id": "dcdfaa7e-6a8d-4969-a424-ca3980516ccc",
   "metadata": {},
   "source": [
    "## Access upper air data from the Iowa Environmental Mesonet Archive"
   ]
  },
  {
   "cell_type": "code",
   "execution_count": null,
   "id": "2fc261f3-4de9-4352-a0a0-6b06d564d440",
   "metadata": {},
   "outputs": [],
   "source": [
    "from datetime import datetime\n",
    "from siphon.simplewebservice.iastate import IAStateUpperAir\n",
    "\n",
    "orig_data = IAStateUpperAir.request_all_data(datetime(1993, 3, 13, 12), pressure=500)"
   ]
  },
  {
   "cell_type": "code",
   "execution_count": null,
   "id": "83d64830-d338-4d48-b8f7-c54bd100ac37",
   "metadata": {},
   "outputs": [],
   "source": [
    "orig_data"
   ]
  },
  {
   "cell_type": "markdown",
   "id": "0daf826d-2bd1-4e7e-bb49-869e23556def",
   "metadata": {},
   "source": [
    "Now that we have the data downloaded, we need to massage it a bit so we can work with it. Notice anything missing?"
   ]
  },
  {
   "cell_type": "code",
   "execution_count": null,
   "id": "c0660fdc-4ca9-46b0-91ea-456fb178f7b1",
   "metadata": {},
   "outputs": [],
   "source": [
    "from metpy.io import add_station_lat_lon\n",
    "\n",
    "upper_air_df = add_station_lat_lon(orig_data)"
   ]
  },
  {
   "cell_type": "code",
   "execution_count": null,
   "id": "a0726314-c05e-49af-8e29-308c9a227d40",
   "metadata": {},
   "outputs": [],
   "source": [
    "upper_air_df"
   ]
  },
  {
   "cell_type": "markdown",
   "id": "a4b44e83-7a7b-4976-98e9-93c62558f02c",
   "metadata": {},
   "source": [
    "So we now have added latitude/longitude information using MetPy's station tables. But we have two other problems. One is the stations for which our latitude and longitude information is missing. The other relates to the actual data type of the latitude and longitude."
   ]
  },
  {
   "cell_type": "code",
   "execution_count": null,
   "id": "352eb7b4-4a8c-45c1-ad1c-445babc516b4",
   "metadata": {},
   "outputs": [],
   "source": [
    "upper_air_df.info()"
   ]
  },
  {
   "cell_type": "markdown",
   "id": "12ed239b-e5bf-486a-8634-421febc5f515",
   "metadata": {},
   "source": [
    "So to address this, we can use some Pandas tools:"
   ]
  },
  {
   "cell_type": "code",
   "execution_count": null,
   "id": "17ec5916-9f0a-42ea-91ec-afbeb116c7d5",
   "metadata": {},
   "outputs": [],
   "source": [
    "upper_air_df = upper_air_df.astype({'latitude': float, 'longitude': float})\n",
    "upper_air_df = upper_air_df.dropna(subset=['latitude', 'longitude'])"
   ]
  },
  {
   "cell_type": "markdown",
   "id": "b4adbe7f-994b-4890-9fd6-46a8a9f4a3c5",
   "metadata": {},
   "source": [
    "For many use cases, this is enough massaging data. If we want to make use of the unit information, we can also use a tool from Metpy `pandas_dataframe_to_unit_arrays`, which takes unit information and converts the Pandas columns into MetPy's prototypical `pint.Quantity` (numpy arrays with unit information) that works with all of MetPy's calculations."
   ]
  },
  {
   "cell_type": "code",
   "execution_count": null,
   "id": "1775da12-9d64-42ee-80d9-42bc2876e941",
   "metadata": {},
   "outputs": [],
   "source": [
    "from metpy.units import pandas_dataframe_to_unit_arrays\n",
    "\n",
    "upper_air_data = pandas_dataframe_to_unit_arrays(upper_air_df, orig_data.units)"
   ]
  },
  {
   "cell_type": "code",
   "execution_count": null,
   "id": "c76a6df6-1494-4a28-bf2f-a415bfc55624",
   "metadata": {},
   "outputs": [],
   "source": [
    "upper_air_data"
   ]
  },
  {
   "cell_type": "markdown",
   "id": "97a90771-8cda-4a54-a279-5c6312c443fe",
   "metadata": {},
   "source": [
    "## Activity: Visualize the data"
   ]
  },
  {
   "cell_type": "markdown",
   "id": "4b3d6ed0-2771-423d-b36b-d09ec1d42527",
   "metadata": {},
   "source": [
    "<div class=\"admonition alert alert-warning\">\n",
    "\n",
    "<p class=\"admonition-title\" style=\"font-weight:bold\">Activity: Visualize your data</p>\n",
    "\n",
    "Now that we have the data, we can plot it just like we have other data sets today:    \n",
    "    \n",
    "* Set up a Cartopy-based map plot\n",
    "\n",
    "* Add contours of the height using the `tricontour` plotting function (looks just like `contour` but can work with irregularly-spaced 2D data)\n",
    "    \n",
    "* Using what was done with the surface data, add some station plots of the data including:\n",
    "    - Station ID\n",
    "    - Height\n",
    "    - Temperature\n",
    "    - Dewpoint\n",
    "    - Wind barbs\n",
    "\n",
    "* Bonus: Add red contours of temperature as well\n",
    "\n",
    "</div>"
   ]
  },
  {
   "cell_type": "code",
   "execution_count": null,
   "id": "f657a6c0-ab6b-477d-ae57-fc95accd520a",
   "metadata": {},
   "outputs": [],
   "source": [
    "import cartopy.crs as ccrs\n",
    "import cartopy.feature as cfeature\n",
    "import matplotlib.pyplot as plt\n",
    "from metpy.plots import StationPlot\n",
    "\n",
    "\n",
    "# YOUR CODE BEGINS HERE\n",
    "\n"
   ]
  },
  {
   "cell_type": "markdown",
   "id": "8ff348be-bd60-4b30-97fc-7949a364c88b",
   "metadata": {},
   "source": [
    "## Download a profile of upper air data from the University of Wyoming Archive\n",
    "\n",
    "As an additional source for data, Siphon also has a class that simplifies access to the University of Wyoming's archive of upper air data. This uses an almost identical interface as the one used above."
   ]
  },
  {
   "cell_type": "code",
   "execution_count": null,
   "id": "bdbf9b1e-8b58-42fc-b355-22ef2c1b7768",
   "metadata": {},
   "outputs": [],
   "source": [
    "from siphon.simplewebservice.wyoming import WyomingUpperAir\n",
    "\n",
    "df = WyomingUpperAir.request_data(datetime(2013, 5, 21, 0), 'DNR')\n",
    "\n",
    "# Convert to arrays with units attached\n",
    "sounding_data = pandas_dataframe_to_unit_arrays(df)"
   ]
  },
  {
   "cell_type": "code",
   "execution_count": null,
   "id": "d1bd6115-f14e-45b5-a233-3163fe9bc0b5",
   "metadata": {},
   "outputs": [],
   "source": [
    "sounding_data"
   ]
  },
  {
   "cell_type": "markdown",
   "id": "2f8bf7f8-66f7-40d2-a981-01f7e94c3699",
   "metadata": {
    "tags": []
   },
   "source": [
    "## Plotting with Skew-T Diagrams\n",
    "In meteorology, in addition to the 2D planar map plots, we often analyze upper air data by looking at vertical profiles, plotted on a Skew-T logP diagram. MetPy features tools to help generate these plots in Python."
   ]
  },
  {
   "cell_type": "markdown",
   "id": "baa7d88c-21e5-41f9-84ac-0c3e3e51dd5d",
   "metadata": {},
   "source": [
    "From here, we can quickly generate a skew-T plot using MetPy's `SkewT` class:"
   ]
  },
  {
   "cell_type": "code",
   "execution_count": null,
   "id": "3c3eabd6-519a-43b8-8a44-3ac78f95900e",
   "metadata": {},
   "outputs": [],
   "source": [
    "from metpy.plots import SkewT\n",
    "\n",
    "skew = SkewT()\n",
    "skew.plot(sounding_data['pressure'], sounding_data['temperature'], 'tab:red')"
   ]
  },
  {
   "cell_type": "markdown",
   "id": "830efb08-2c26-4f5b-9086-dd1977f6fc17",
   "metadata": {},
   "source": [
    "`SkewT` also features tools to add some common plot features, like dry adiabats or wind barbs:"
   ]
  },
  {
   "cell_type": "code",
   "execution_count": null,
   "id": "49301f19-82d8-41c6-b105-0649cf157d30",
   "metadata": {},
   "outputs": [],
   "source": [
    "skew = SkewT(plt.figure(figsize=(12, 12)))\n",
    "skew.plot(sounding_data['pressure'], sounding_data['temperature'], 'tab:red')\n",
    "skew.plot_barbs(sounding_data['pressure'], sounding_data['u_wind'], sounding_data['v_wind'])\n",
    "\n",
    "# Make the lines mostly transparent so that they're more subtle on the plot\n",
    "skew.plot_dry_adiabats(alpha=0.2)"
   ]
  },
  {
   "cell_type": "markdown",
   "id": "423ebb53-9b62-4aed-a00a-e5bc5cb0f423",
   "metadata": {},
   "source": [
    "<div class=\"admonition alert alert-warning\">\n",
    "\n",
    "<p class=\"admonition-title\" style=\"font-weight:bold\">Activity: Visualize using a Skew-T log-p</p>\n",
    "\n",
    "Let's practice making your own Skew-T:\n",
    "    \n",
    "* Download data for a date and site of your choosing. If you're not familiar with any sites, 'DNR' is the site ID for Denver, though you'll need to use older data since Denver has not launched a sounding recently.\n",
    "\n",
    "* Set up a blank Skew-T\n",
    "\n",
    "* Plot the profiles of temperature and dewpoint, as well as the wind barbs\n",
    "\n",
    "* Customize the plot with special lines like dry and moist adiabats and lines of mixing ratio. You can [look at the docs](https://unidata.github.io/MetPy/latest/api/generated/metpy.plots.SkewT.html#metpy.plots.SkewT) for more information\n",
    "\n",
    "* BONUS: The `.ax` property on an instane of `SkewT` gives access to the underlying Matplotlib `Axes` object. Try using `skew.ax.axvline()` to plot lines that highlight the 0 and -20 degree isotherms.\n",
    "    \n",
    "</div>"
   ]
  },
  {
   "cell_type": "code",
   "execution_count": null,
   "id": "b03abbbf-a589-4771-b725-dc1c3aaf1a9a",
   "metadata": {},
   "outputs": [],
   "source": []
  }
 ],
 "metadata": {
  "kernelspec": {
   "display_name": "metpy-ams-2023",
   "language": "python",
   "name": "conda-env-metpy-ams-2023-py"
  },
  "language_info": {
   "codemirror_mode": {
    "name": "ipython",
    "version": 3
   },
   "file_extension": ".py",
   "mimetype": "text/x-python",
   "name": "python",
   "nbconvert_exporter": "python",
   "pygments_lexer": "ipython3",
   "version": "3.11.0"
  }
 },
 "nbformat": 4,
 "nbformat_minor": 5
}
