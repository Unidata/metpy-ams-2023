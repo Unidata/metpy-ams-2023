{
 "cells": [
  {
   "cell_type": "markdown",
   "id": "22afc16f-63e5-4613-9878-59275b95e64e",
   "metadata": {},
   "source": [
    "![Unidata organization logo](https://github.com/Unidata/metpy-ams-2023/raw/main/logos/unidata_logo_horizontal.png)\n",
    "\n",
    "# Radar Data\n",
    "\n",
    "## MetPy for your Data: Analyzing Meteorological Observations in Python\n",
    "\n",
    "**About this Notebook**:\n",
    "\n",
    "When working with radar data in Python, we'll be going beyond just MetPy. This notebook will introduce Py-ART (another package in the Python ecosystem in the atmospheric sciences) and use it to read Level 2 NEXRAD data from AWS S3. MetPy, as well as several other packages used so far in this course, will still be in use as well."
   ]
  },
  {
   "cell_type": "markdown",
   "id": "8b8a4181-f90d-48c9-a86b-dfc458baf695",
   "metadata": {},
   "source": [
    "## Table of Contents <a class=\"anchor\" id=\"top\"></a>\n",
    "\n",
    "* [Activity 0: Import required packages](#step0)\n",
    "* [Activity 1: Exploring the NEXRAD level 2 archive on AWS S3](#step1)\n",
    "* [Activity 2: Loading a level 2 file with Py-ART](#step2)\n",
    "* [Activity 3: Plotting radar data with matplotlib](#step3)\n",
    "    * [Step 3a: Plotting a single moment](#step3a)\n",
    "    * [Step 3b: Plotting mulitple scans/moments](#step3b)\n",
    "* [Wrap-Up](#wrapup)"
   ]
  },
  {
   "cell_type": "markdown",
   "id": "7cc5a752-5c21-41b5-92c4-ecf68b7d2dd8",
   "metadata": {},
   "source": [
    "## Activity 0: Import required packages <a class=\"anchor\" id=\"step0\"></a>\n",
    "[Top](#top)\n",
    "\n",
    "First, we need to import all our required packages. In this notebook we're primarily working with:\n",
    "\n",
    "- Py-ART, for reading NEXRAD level 2 data\n",
    "- s3fs, for interacting with an S3 bucket in a filesystem-like way\n",
    "- matplotlib, for plotting\n",
    "- cartopy, for geographically-aware plotting\n",
    "- MetPy, for county outlines"
   ]
  },
  {
   "cell_type": "code",
   "execution_count": 1,
   "id": "6485009e-a40c-4402-b761-3767ca423297",
   "metadata": {},
   "outputs": [
    {
     "name": "stdout",
     "output_type": "stream",
     "text": [
      "\n",
      "## You are using the Python ARM Radar Toolkit (Py-ART), an open source\n",
      "## library for working with weather radar data. Py-ART is partly\n",
      "## supported by the U.S. Department of Energy as part of the Atmospheric\n",
      "## Radiation Measurement (ARM) Climate Research Facility, an Office of\n",
      "## Science user facility.\n",
      "##\n",
      "## If you use this software to prepare a publication, please cite:\n",
      "##\n",
      "##     JJ Helmus and SM Collis, JORS 2016, doi: 10.5334/jors.119\n",
      "\n"
     ]
    },
    {
     "name": "stderr",
     "output_type": "stream",
     "text": [
      "<frozen importlib._bootstrap>:283: DeprecationWarning: the load_module() method is deprecated and slated for removal in Python 3.12; use exec_module() instead\n",
      "/home/jthielen/mambaforge/envs/metpy-ams-2023/lib/python3.11/site-packages/pyart/io/nexrad_level3.py:72: DeprecationWarning: 'xdrlib' is deprecated and slated for removal in Python 3.13\n",
      "  from xdrlib import Unpacker\n",
      "/home/jthielen/mambaforge/envs/metpy-ams-2023/lib/python3.11/site-packages/botocore/utils.py:15: DeprecationWarning: 'cgi' is deprecated and slated for removal in Python 3.13\n",
      "  import cgi\n",
      "/home/jthielen/mambaforge/envs/metpy-ams-2023/lib/python3.11/site-packages/botocore/httpsession.py:41: DeprecationWarning: 'urllib3.contrib.pyopenssl' module is deprecated and will be removed in a future release of urllib3 2.x. Read more in this issue: https://github.com/urllib3/urllib3/issues/2680\n",
      "  from urllib3.contrib.pyopenssl import orig_util_SSLContext as SSLContext\n"
     ]
    }
   ],
   "source": [
    "## CELL 0A\n",
    "## INSTRUCTIONS: Run this cell\n",
    "\n",
    "from datetime import datetime\n",
    "import re\n",
    "import warnings\n",
    "\n",
    "import cartopy.crs as ccrs\n",
    "import matplotlib.pyplot as plt\n",
    "from metpy.plots import USCOUNTIES\n",
    "import numpy as np\n",
    "import pyart\n",
    "import s3fs\n",
    "\n",
    "# Suppress warnings from cartopy with shapely 2.0\n",
    "warnings.filterwarnings('ignore', '.*geom_factory.*', DeprecationWarning)"
   ]
  },
  {
   "cell_type": "markdown",
   "id": "a3d77b47-ef69-453b-8f0b-425e4d44891a",
   "metadata": {},
   "source": [
    "## Activity 1: Exploring the NEXRAD level 2 archive on AWS S3<a class=\"anchor\" id=\"step1\"></a>\n",
    "[Top](#top)\n",
    "\n",
    "When it comes to operational radar data in the U.S. (both archive and real-time), [the NEXRAD collections on AWS S3](https://registry.opendata.aws/noaa-nexrad/) are often the place to turn to first. Here, we will be focusing on *Level 2* NEXRAD radar data, rather than the more highly-processed and reduced-resolution Level 3 data available from NEXRAD sites ([for more info, see this NCEI info page](https://www.ncei.noaa.gov/products/radar/next-generation-weather-radar)), or any non-NEXRAD formats.\n",
    "\n",
    "While S3 is indeed something called an *[object store](https://en.wikipedia.org/wiki/Object_storage)*, rather than a traditional file system or a web-based API, this isn't something that need cause concern. Many utilities exist to interact with object stores as if they were simple file systems (we will be using one below) and many buckets expose web interfaces through which to browse files. The `noaa-nexrad-level2` S3 bucket used in this notebook can be [explored here](https://s3.amazonaws.com/noaa-nexrad-level2/index.html), however, we can also simply explore the contents via code!\n",
    "\n",
    "Using `s3fs`, we can look at the top-level contents/directories in this bucket:"
   ]
  },
  {
   "cell_type": "code",
   "execution_count": 2,
   "id": "98ac885d-ca05-4a50-9823-7cca1d68e32c",
   "metadata": {},
   "outputs": [
    {
     "data": {
      "text/plain": [
       "['noaa-nexrad-level2/1970',\n",
       " 'noaa-nexrad-level2/1991',\n",
       " 'noaa-nexrad-level2/1992',\n",
       " 'noaa-nexrad-level2/1993',\n",
       " 'noaa-nexrad-level2/1994',\n",
       " 'noaa-nexrad-level2/1995',\n",
       " 'noaa-nexrad-level2/1996',\n",
       " 'noaa-nexrad-level2/1997',\n",
       " 'noaa-nexrad-level2/1998',\n",
       " 'noaa-nexrad-level2/1999',\n",
       " 'noaa-nexrad-level2/2000',\n",
       " 'noaa-nexrad-level2/2001',\n",
       " 'noaa-nexrad-level2/2002',\n",
       " 'noaa-nexrad-level2/2003',\n",
       " 'noaa-nexrad-level2/2004',\n",
       " 'noaa-nexrad-level2/2005',\n",
       " 'noaa-nexrad-level2/2006',\n",
       " 'noaa-nexrad-level2/2007',\n",
       " 'noaa-nexrad-level2/2008',\n",
       " 'noaa-nexrad-level2/2009',\n",
       " 'noaa-nexrad-level2/2010',\n",
       " 'noaa-nexrad-level2/2011',\n",
       " 'noaa-nexrad-level2/2012',\n",
       " 'noaa-nexrad-level2/2013',\n",
       " 'noaa-nexrad-level2/2014',\n",
       " 'noaa-nexrad-level2/2015',\n",
       " 'noaa-nexrad-level2/2016',\n",
       " 'noaa-nexrad-level2/2017',\n",
       " 'noaa-nexrad-level2/2018',\n",
       " 'noaa-nexrad-level2/2019',\n",
       " 'noaa-nexrad-level2/2020',\n",
       " 'noaa-nexrad-level2/2021',\n",
       " 'noaa-nexrad-level2/2022',\n",
       " 'noaa-nexrad-level2/2023',\n",
       " 'noaa-nexrad-level2/index.html']"
      ]
     },
     "execution_count": 2,
     "metadata": {},
     "output_type": "execute_result"
    }
   ],
   "source": [
    "## CELL 1A\n",
    "## INSTRUCTIONS: Run this cell\n",
    "\n",
    "fs = s3fs.S3FileSystem(anon=True)\n",
    "fs.ls('noaa-nexrad-level2')"
   ]
  },
  {
   "cell_type": "markdown",
   "id": "3129dbb7-7a14-49d5-aab6-48ec14cd7d3f",
   "metadata": {},
   "source": [
    "In this Level 2 bucket, the *object keys* that specify where in the bucket our data file is located look like paths structured in the following way:\n",
    "\n",
    "`noaa-nexrad-level2/{year}/{month}/{day}/{site}/{filename}`\n",
    "\n",
    "where `{filename}` typically looks like:\n",
    "\n",
    "* `{site}{yr}{mo}{dy}_{hr}{min}{sec}_V06`, for more recent data\n",
    "* `{site}{yr}{mo}{dy}_{hr}{min}{sec}_V06.gz`, for slightly less recent data\n",
    "* `{site}{yr}{mo}{dy}_{hr}{min}{sec}_V03.gz` or `{site}{yr}{mo}{dy}_{hr}{min}{sec}.gz`, for older data\n",
    "\n",
    "While NEXRAD volumes are collected in a recurring fashion, their collection times are not regular/standardized. And so, to find the radar data valid for any given time of interest, we cannot simply know the right file name to request, and instead need to query our file collection for files that are proximate in time.\n",
    "\n",
    "For example, here we present some of the radar files available from KFTG from today."
   ]
  },
  {
   "cell_type": "code",
   "execution_count": 3,
   "id": "eb3273b9-bc62-47a2-8021-3f9fd0090931",
   "metadata": {},
   "outputs": [
    {
     "name": "stdout",
     "output_type": "stream",
     "text": [
      "84\n",
      "['noaa-nexrad-level2/2023/01/08/KFTG/KFTG20230108_071119_V06', 'noaa-nexrad-level2/2023/01/08/KFTG/KFTG20230108_071813_V06', 'noaa-nexrad-level2/2023/01/08/KFTG/KFTG20230108_072515_V06', 'noaa-nexrad-level2/2023/01/08/KFTG/KFTG20230108_073216_V06', 'noaa-nexrad-level2/2023/01/08/KFTG/KFTG20230108_073916_V06']\n"
     ]
    }
   ],
   "source": [
    "## CELL 1B\n",
    "## INSTRUCTIONS: Run this cell\n",
    "\n",
    "now = datetime.now()\n",
    "file_keys = fs.ls(f'noaa-nexrad-level2/{now:%Y}/{now:%m}/{now:%d}/KFTG/')\n",
    "\n",
    "print(len(file_keys))\n",
    "print(file_keys[-5:])"
   ]
  },
  {
   "cell_type": "markdown",
   "id": "7cc3cbcd-3418-4135-bbf7-312b0e66d69e",
   "metadata": {},
   "source": [
    "While one could certainly browse through the available files manually, it would be much more effective to do so with some code that searches the possible matching volume files for that closest to a given time.\n",
    "\n",
    "For example, still at KFTG, let's try to find the scan closest to 2013-09-12 01:00 UTC:"
   ]
  },
  {
   "cell_type": "code",
   "execution_count": 4,
   "id": "241aadde-f590-4a9a-9856-f5eb7245b371",
   "metadata": {},
   "outputs": [
    {
     "name": "stdout",
     "output_type": "stream",
     "text": [
      "noaa-nexrad-level2/2013/09/12/KFTG/KFTG20130912_010204_V06.gz\n"
     ]
    }
   ],
   "source": [
    "## CELL 1C\n",
    "## INSTRUCTIONS: Run this cell\n",
    "\n",
    "site = 'KFTG'\n",
    "target = datetime(2013, 9, 12, 1, 0)\n",
    "file_keys_on_day = fs.ls(f'noaa-nexrad-level2/{target:%Y}/{target:%m}/{target:%d}/{site}/')\n",
    "\n",
    "def key_to_time_difference(key, target):\n",
    "    # Search for the filename in the key using a regex pattern\n",
    "    if dt_group := re.search(r'[A-Z]{4}(\\d{8}_\\d{6})', key):\n",
    "        return (target - datetime.strptime(dt_group.group(1), '%Y%m%d_%H%M%S')).total_seconds()\n",
    "    else:\n",
    "        return np.inf\n",
    "    \n",
    "nearest = min(file_keys_on_day, key=lambda k: abs(key_to_time_difference(k, target)))\n",
    "\n",
    "print(nearest)"
   ]
  },
  {
   "cell_type": "markdown",
   "id": "bb3d7308-b733-4591-bb0e-86665b6e3971",
   "metadata": {},
   "source": [
    "<div class=\"admonition alert alert-warning\">\n",
    "\n",
    "<p class=\"admonition-title\" style=\"font-weight:bold\">Activity: Find Your Own Level 2 File</p>\n",
    "\n",
    "Now, find a radar file yourself from this S3 bucket for a meteorological event that you'd be interested in exploring today. Choose a site and a target datetime, and adapt the code above (or any other approach you wish to implement within the short time period for this brief activity) to obtain the object key (file path) for the nearest Level 2 volume.\n",
    "    \n",
    "If you have a particular event and location in mind, but don't know what NEXRAD site to use, [this map](https://www.roc.noaa.gov/WSR88D/Maps.aspx) may be helpful. If you don't have an event in mind, feel free to use one of the suggestions below or ask a neighbor for an idea:\n",
    "    \n",
    "- August 2020 Derecho - KDMX, 2020-08-10 16:00 Z\n",
    "- 2011 Super Outbreak - KBMX, 2011-04-27 20:00 Z\n",
    "- Hurricane Ian - KTBW, 2022-09-28 21:00 Z\n",
    "\n",
    "</div>"
   ]
  },
  {
   "cell_type": "code",
   "execution_count": null,
   "id": "4021efcf-f25c-476c-bde2-2eec5190de57",
   "metadata": {},
   "outputs": [],
   "source": [
    "# ACTIVITY: Find Your Own File\n",
    "# Adapt prior code or create your own to find a Level 2 file for a time and NEXRAD site of interest"
   ]
  },
  {
   "cell_type": "markdown",
   "id": "f4943288-d283-4789-a704-b53013103e3c",
   "metadata": {},
   "source": [
    "## Activity 2: Loading a level 2 file with Py-ART<a class=\"anchor\" id=\"step2\"></a>\n",
    "[Top](#top)\n",
    "\n",
    "Now that we know how to find a level 2 file on the S3 bucket, now we can do something with it!\n",
    "\n",
    "For this, we'll be using Py-ART, a Python package for radar data released by ARM-DOW. Recent versions integrate with `fsspec`/`s3fs` (like we used earlier) to include easy support for S3 file access. All we need to do to build upon what we've previously done to find a file of interest is add the proper protocol specification and pass it to Py-ART's reader:"
   ]
  },
  {
   "cell_type": "code",
   "execution_count": null,
   "id": "09dec451-1720-44ba-a8fd-996285bb42cb",
   "metadata": {},
   "outputs": [],
   "source": [
    "## CELL 2A\n",
    "## INSTRUCTIONS: Run this cell\n",
    "## OPTIONAL INSTRUCTIONS: Modify variable \"nearest\" to what your file is represented with\n",
    "##     from the prior activity, if changed.\n",
    "\n",
    "radar = pyart.io.read_nexrad_archive(f's3://{nearest}')\n",
    "radar"
   ]
  },
  {
   "cell_type": "markdown",
   "id": "86284d95-dbbe-431d-ac59-fcb2aec3990c",
   "metadata": {},
   "source": [
    "The data model (currently) used by Py-ART is a bespoke collection of `dict`s representing radar data fields as well as metadata. Using `.info()` on the object output by the reader, we can preview these fields and view all the metadata:"
   ]
  },
  {
   "cell_type": "code",
   "execution_count": null,
   "id": "253d2ba1-8c81-4a86-a5e5-e3228e9fe5c9",
   "metadata": {},
   "outputs": [],
   "source": [
    "## CELL 2B\n",
    "## INSTRUCTIONS: Run this cell\n",
    "\n",
    "radar.info()"
   ]
  },
  {
   "cell_type": "markdown",
   "id": "8147c593-794e-44ca-8e9b-486eb369ba9b",
   "metadata": {},
   "source": [
    "As a quick demonstration of how the data in these collections can be accessed, let's look at a quick plot of the elevation angle of the radar beam over the course of this volume:"
   ]
  },
  {
   "cell_type": "code",
   "execution_count": null,
   "id": "9519ebe6-3944-4ed8-9e5e-7ed76b6c4123",
   "metadata": {},
   "outputs": [],
   "source": [
    "## CELL 2C\n",
    "## INSTRUCTIONS: Run this cell\n",
    "\n",
    "plt.plot(radar.elevation['data'])"
   ]
  },
  {
   "cell_type": "markdown",
   "id": "e3bdce2f-1c7a-4f04-a30d-5a365c3dcdf0",
   "metadata": {
    "tags": []
   },
   "source": [
    "## Activity 3: Plotting radar data with matplotlib<a class=\"anchor\" id=\"step3\"></a>\n",
    "[Top](#top)\n",
    "\n",
    "We now have a Level 2 radar file loaded into memory and can explore its metadata. For the last section, let's actually look through the data!\n",
    "\n",
    "Plotting radar data merits some special concern because these data exist in *radar-centered polar coordinates*: data cells are separated by grid spacings of azimuth, range, and elevation, rather than x/y distance or latitude/longitude. And so, we will need to use a mesh-capable plotting routine to represent these non-rectangular data cells. Thankfully, the details of *coordinate system transformations* can be handled easily between cartopy and Py-ART, so our plotting code can remain relatively precise.\n",
    "\n",
    "### Activity 3a: Plotting radar data with matplotlib<a class=\"anchor\" id=\"step3a\"></a>\n",
    "[Top](#top)\n",
    "\n",
    "Below is a simple example of plotting such polar coordinate radar data. Note the following:\n",
    "\n",
    "- We are using an *Azimuthal Equidistant* CRS, so that we can validly geo-reference our data based on x and y distances from the radar location.\n",
    "- We are choosing a *CVD-friendly* colormap from Py-ART. For more options from Py-ART, see [this section of their docs](https://arm-doe.github.io/pyart/examples/plotting/plot_choose_a_colormap.html).\n",
    "- Py-ART separates different collections of rays of data at (approximately) the same elevation into *sweeps*, and so we use sweep-based methods to extract 2D data for plotting.\n",
    "- Py-ART's `get_gate_x_y_z` method calculates the x and y (and z, which we don't use in this example) distances from the radar to the data cell center. Given that we chose an Azimuthal Equidistant CRS, these are exactly the projection coordinates that cartopy needs to plot our data on a map."
   ]
  },
  {
   "cell_type": "code",
   "execution_count": null,
   "id": "a53aa0b3-5262-458b-8d62-444c513e7052",
   "metadata": {},
   "outputs": [],
   "source": [
    "## CELL 3A\n",
    "## INSTRUCTIONS: Run this cell\n",
    "\n",
    "crs = ccrs.AzimuthalEquidistant(\n",
    "    central_longitude=radar.longitude['data'].item(),\n",
    "    central_latitude=radar.latitude['data'].item()\n",
    ")\n",
    "fig, ax = plt.subplots(figsize=(8, 8), subplot_kw={'projection': crs})\n",
    "sweep = radar.extract_sweeps([0])\n",
    "x, y, z = sweep.get_gate_x_y_z(0)\n",
    "\n",
    "ax.pcolormesh(x, y, sweep.fields['reflectivity']['data'], cmap='pyart_ChaseSpectral', vmin=-10, vmax=70)\n",
    "ax.add_feature(USCOUNTIES, linewidth=0.5)\n",
    "ax.set_extent([-2e5, 1e5, -1e5, 2e5], crs=crs)\n",
    "ax.set_title(nearest.split('/')[-1])\n",
    "\n",
    "plt.show()"
   ]
  },
  {
   "cell_type": "markdown",
   "id": "6ebf3ab6-d9bb-47fd-8bc1-3c58d1cbc694",
   "metadata": {},
   "source": [
    "<div class=\"admonition alert alert-warning\">\n",
    "\n",
    "<p class=\"admonition-title\" style=\"font-weight:bold\">Activity: Make an Improved Plot of a Single Field</p>\n",
    "\n",
    "This previous plot was initially simplified. For a useful scientific figure, there are several things we'd want to see improved over this previous plot, such as adding colorbar and using a more meaningful/descriptive figure title. Choose one (or any number) of improvements to this figure to make an improved plot of a single field of radar data.\n",
    "    \n",
    "Also, feel free to explore different fields or sweeps within your chosen volume!\n",
    "</div>"
   ]
  },
  {
   "cell_type": "code",
   "execution_count": null,
   "id": "4989def6-f8af-4992-ad1d-2251c167c379",
   "metadata": {},
   "outputs": [],
   "source": [
    "# ACTIVITY: Plot an Improved Plot of a Single Field\n",
    "# Create your plot code below"
   ]
  },
  {
   "cell_type": "markdown",
   "id": "d95cb592-7075-404b-b1c1-d8647e1a7428",
   "metadata": {
    "tags": []
   },
   "source": [
    "### Activity 3b: Plotting mulitple scans/moments<a class=\"anchor\" id=\"step3b\"></a>\n",
    "[Top](#top)\n",
    "\n",
    "To end this section, let's go from just viewing a single plot of radar data to creating a figure to compare several different components of interest, such as:\n",
    "\n",
    "- multiple different sweeps,\n",
    "- multiple different fields,\n",
    "- or even multiple different times (i.e., radar files)\n",
    "\n",
    "To get you started, see below for one way multiple sweeps could be displayed:"
   ]
  },
  {
   "cell_type": "code",
   "execution_count": null,
   "id": "daad90ed-09ef-43cd-815f-3b9839af2e95",
   "metadata": {},
   "outputs": [],
   "source": [
    "## CELL 3B\n",
    "## INSTRUCTIONS: Run this cell\n",
    "\n",
    "crs = ccrs.AzimuthalEquidistant(\n",
    "    central_longitude=radar.longitude['data'].item(),\n",
    "    central_latitude=radar.latitude['data'].item()\n",
    ")\n",
    "fig, axes = plt.subplots(2, 2, figsize=(10, 10), subplot_kw={'projection': crs})\n",
    "\n",
    "for i, ax_row in enumerate(axes):\n",
    "    for j, ax in enumerate(ax_row):\n",
    "        sweep_id = 4 * i + 2 * j\n",
    "        sweep = radar.extract_sweeps([sweep_id])\n",
    "        x, y, z = sweep.get_gate_x_y_z(0)\n",
    "\n",
    "        ax.pcolormesh(x, y, sweep.fields['reflectivity']['data'], cmap='pyart_ChaseSpectral', vmin=-10, vmax=70)\n",
    "        ax.add_feature(USCOUNTIES, linewidth=0.5)\n",
    "        ax.set_extent([-2e5, 1e5, -1e5, 2e5], crs=crs)\n",
    "        ax.set_title(f\"{sweep.elevation['data'].mean():0.2f}\\u00B0 Elevation\")\n",
    "        \n",
    "fig.suptitle(nearest.split('/')[-1])\n",
    "\n",
    "plt.show()"
   ]
  },
  {
   "cell_type": "markdown",
   "id": "ebb31da8-0f68-4094-9784-0c111a037efc",
   "metadata": {},
   "source": [
    "<div class=\"admonition alert alert-warning\">\n",
    "    <p class=\"admonition-title\" style=\"font-weight:bold\">Activity: Make a Multi-Panel Figure</p>\n",
    "    For your event of interest and the radar data you have, get creative with comparing several different aspects of the data using a multi-panel figure!\n",
    "</div>"
   ]
  },
  {
   "cell_type": "code",
   "execution_count": null,
   "id": "13a041dc-28cd-4180-9c22-95fbaaca8997",
   "metadata": {},
   "outputs": [],
   "source": [
    "# ACTIVITY: Plot a Multi-Panel Figure\n",
    "# Create your plot code below"
   ]
  },
  {
   "cell_type": "markdown",
   "id": "cf319ad0-72f1-469c-9a9e-3eeaaed2e859",
   "metadata": {},
   "source": [
    "## Wrap-Up <a class=\"anchor\" id=\"wrapup\"></a>\n",
    "\n",
    "By working through this notebook, you've learned the basics of working with Level 2 radar data in Python, and could take what you learned here to plot any number of available fields from any sweep from such data.\n",
    "\n",
    "If this area of data exploration interests you, the following resources may be of interest to you in learning more:\n",
    "\n",
    "- [Py-ART Example Gallery](https://arm-doe.github.io/pyart/examples/index.html) and [Docs](https://arm-doe.github.io/pyart/index.html)\n",
    "- [xradar](https://github.com/openradar/xradar), which brings radar data into xarray in the fashion of the CfRadial2 standards\n",
    "    - NEXRAD support is still under development and not yet available, but should be soon in early 2023\n",
    "- Learn more about other forms of radar data, such as [NEXRAD Level 3](https://www.ncei.noaa.gov/products/radar/next-generation-weather-radar) or [MRMS](https://www.nssl.noaa.gov/projects/mrms/)"
   ]
  }
 ],
 "metadata": {
  "kernelspec": {
   "display_name": "Python 3 (ipykernel)",
   "language": "python",
   "name": "python3"
  },
  "language_info": {
   "codemirror_mode": {
    "name": "ipython",
    "version": 3
   },
   "file_extension": ".py",
   "mimetype": "text/x-python",
   "name": "python",
   "nbconvert_exporter": "python",
   "pygments_lexer": "ipython3",
   "version": "3.11.0"
  }
 },
 "nbformat": 4,
 "nbformat_minor": 5
}
